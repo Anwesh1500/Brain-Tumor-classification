{
  "nbformat": 4,
  "nbformat_minor": 0,
  "metadata": {
    "colab": {
      "name": "miniproject.ipynb",
      "provenance": [],
      "collapsed_sections": [],
      "authorship_tag": "ABX9TyOXPlVKFDrdKEtdZRw8yaxZ",
      "include_colab_link": true
    },
    "kernelspec": {
      "name": "python3",
      "display_name": "Python 3"
    },
    "language_info": {
      "name": "python"
    }
  },
  "cells": [
    {
      "cell_type": "markdown",
      "metadata": {
        "id": "view-in-github",
        "colab_type": "text"
      },
      "source": [
        "<a href=\"https://colab.research.google.com/github/Anwesh1500/Mini-Project/blob/main/Brain_Tumor_Classification.ipynb\" target=\"_parent\"><img src=\"https://colab.research.google.com/assets/colab-badge.svg\" alt=\"Open In Colab\"/></a>"
      ]
    },
    {
      "cell_type": "markdown",
      "metadata": {
        "id": "Hh24P3Nys6S8"
      },
      "source": [
        "**CLASSIFICATION OF DIFFERENT TYPES OF BRAIN TUMOR FROM CT SCAN**\n"
      ]
    },
    {
      "cell_type": "code",
      "metadata": {
        "id": "5qsCVpNQYuAO"
      },
      "source": [
        "#The Dataset for the following problem statement is obtain from Kaggle Dataset\n",
        "\n",
        "#The zip file of the Dataset given should be uploaded to the current session \n",
        "\n",
        "#The Data of the CT-Scan is in the form of zip file so it should be unziped first\n",
        "\n",
        "!unzip -uq /content/Brain_Tumor_Dataset.zip "
      ],
      "execution_count": 1,
      "outputs": []
    },
    {
      "cell_type": "code",
      "metadata": {
        "id": "bKUGxpgXX0Qz"
      },
      "source": [
        "#importing the required libraries \n",
        "\n",
        "import numpy as np \n",
        "import os\n",
        "import matplotlib\n",
        "import matplotlib.pyplot as plt\n",
        "from skimage.io import imread\n",
        "from skimage.transform import resize\n",
        "from sklearn.model_selection import train_test_split,GridSearchCV\n",
        "from sklearn.neighbors import KNeighborsClassifier\n",
        "from sklearn.metrics import accuracy_score,confusion_matrix,classification_report\n",
        "import seaborn as sb\n",
        "%matplotlib inline\n",
        "\n",
        "\n",
        "\n",
        "data_array=[]\n",
        "data_value=[]                               \n",
        "#  1-BENIGN   2-MALIGNANT   3-NORMAL   are the differrent types of data that we are dealing with this Dataset\n",
        "catagories=['BENIGN','MALIGNANT','NORMAL']\n",
        "\n",
        "\n",
        "\n",
        "# Assign the path of the train folder in the dataset to dir_path \n",
        "dir_path=r\"/content/Brain_Tumor_Dataset/Train\"  \n",
        "for types in os.listdir(dir_path):\n",
        "    path1=os.path.join(dir_path,types)\n",
        "    index=os.listdir(dir_path).index(types)+1\n",
        "    for data in os.listdir(path1):\n",
        "        path2=os.path.join(path1,data)\n",
        "        data_array.append(np.array(resize(imread(path2),(120,120,3))).flatten())     #resizing the image \n",
        "        data_value.append(index)"
      ],
      "execution_count": 2,
      "outputs": []
    },
    {
      "cell_type": "code",
      "metadata": {
        "id": "JHenJhMXX_UV"
      },
      "source": [
        "# splitting the data into test and train sets \n",
        "\n",
        "x_train,x_test,y_train,y_test=train_test_split(data_array,data_value,test_size=0.15,shuffle=True,random_state=45)\n",
        "\n",
        "x_train=np.array(x_train)\n",
        "y_train=np.array(y_train)"
      ],
      "execution_count": 3,
      "outputs": []
    },
    {
      "cell_type": "code",
      "metadata": {
        "id": "8wy7EkxbYE7z",
        "colab": {
          "base_uri": "https://localhost:8080/"
        },
        "outputId": "b60cec76-9930-46d7-d379-074828f8b681"
      },
      "source": [
        "# here we are using KNN classifier for the classification of image\n",
        "#best parameter is selected using GridSearchcv\n",
        "\n",
        "\n",
        "para={\n",
        "    'n_neighbors':[5,7],\n",
        "      'metric':['manhattan']\n",
        "      }\n",
        "\n",
        "clf=GridSearchCV(KNeighborsClassifier(),para,cv=5,n_jobs=-1)\n",
        "\n",
        "clf.fit(x_train,y_train)\n",
        "\n",
        "print('the best parameters are ')\n",
        "print(clf.best_params_)          #the best parameter is predicted by the gridsearchcv\n",
        "\n",
        "\n"
      ],
      "execution_count": 4,
      "outputs": [
        {
          "output_type": "stream",
          "text": [
            "the best parameters are \n",
            "{'metric': 'manhattan', 'n_neighbors': 5}\n"
          ],
          "name": "stdout"
        }
      ]
    },
    {
      "cell_type": "code",
      "metadata": {
        "colab": {
          "base_uri": "https://localhost:8080/"
        },
        "id": "xvkfcU0ToJDQ",
        "outputId": "2f77e13f-c586-46a7-cf42-5253cf391683"
      },
      "source": [
        "print('the best score is ')\n",
        "print(clf.best_score_)\n",
        "\n",
        "print('the classifier score is ')\n",
        "print(clf.score(x_test,y_test))\n"
      ],
      "execution_count": 5,
      "outputs": [
        {
          "output_type": "stream",
          "text": [
            "the best score is \n",
            "0.9368238794322782\n",
            "the classifier score is \n",
            "0.9385474860335196\n"
          ],
          "name": "stdout"
        }
      ]
    },
    {
      "cell_type": "code",
      "metadata": {
        "id": "nckjcvy4YJI4"
      },
      "source": [
        "#predicting the model score\n",
        "\n",
        "y_predicted=clf.predict(x_test)\n"
      ],
      "execution_count": 6,
      "outputs": []
    },
    {
      "cell_type": "code",
      "metadata": {
        "id": "i6Izayy2YL6A",
        "colab": {
          "base_uri": "https://localhost:8080/",
          "height": 654
        },
        "outputId": "da472154-8800-447e-b31c-d23697f6b14a"
      },
      "source": [
        "#Evaluating the model using confusion matrix and classification report accuracy score \n",
        "\n",
        "print(\"the confusion matrix is \")\n",
        "cm = confusion_matrix(y_test, y_predicted)\n",
        "plt.figure(figsize=(10,10))\n",
        "sb.heatmap(cm, annot=True, cmap=\"YlGnBu\",xticklabels=catagories, yticklabels=catagories)\n",
        "plt.title(\"CONFUSION MATRIX\")\n",
        "plt.xlabel(\"Predicted\")\n",
        "plt.ylabel(\"True_Values\")\n"
      ],
      "execution_count": 7,
      "outputs": [
        {
          "output_type": "stream",
          "text": [
            "the confusion matrix is \n"
          ],
          "name": "stdout"
        },
        {
          "output_type": "execute_result",
          "data": {
            "text/plain": [
              "Text(69.0, 0.5, 'True_Values')"
            ]
          },
          "metadata": {
            "tags": []
          },
          "execution_count": 7
        },
        {
          "output_type": "display_data",
          "data": {
            "image/png": "[encoded data removed]",
            "text/plain": [
              "<Figure size 720x720 with 2 Axes>"
            ]
          },
          "metadata": {
            "tags": [],
            "needs_background": "light"
          }
        }
      ]
    },
    {
      "cell_type": "code",
      "metadata": {
        "colab": {
          "base_uri": "https://localhost:8080/"
        },
        "id": "WcD3AUQqgATz",
        "outputId": "6228e2a2-9ecb-4bb9-a18c-c5d8f9f331ee"
      },
      "source": [
        "print(\"the classification report is \")\n",
        "print(classification_report(y_test,y_predicted,target_names=catagories))\n",
        "\n",
        "print('the accuracy score is ')\n",
        "print(accuracy_score(y_test,y_predicted))\n"
      ],
      "execution_count": 8,
      "outputs": [
        {
          "output_type": "stream",
          "text": [
            "the classification report is \n",
            "              precision    recall  f1-score   support\n",
            "\n",
            "      BENIGN       0.85      1.00      0.92        50\n",
            "   MALIGNANT       0.98      0.93      0.96        70\n",
            "      NORMAL       0.98      0.90      0.94        59\n",
            "\n",
            "    accuracy                           0.94       179\n",
            "   macro avg       0.94      0.94      0.94       179\n",
            "weighted avg       0.95      0.94      0.94       179\n",
            "\n",
            "the accuracy score is \n",
            "0.9385474860335196\n"
          ],
          "name": "stdout"
        }
      ]
    },
    {
      "cell_type": "markdown",
      "metadata": {
        "id": "5vSfwd-4N4uC"
      },
      "source": [
        "**Testing with new image**"
      ]
    },
    {
      "cell_type": "code",
      "metadata": {
        "id": "ixntMwLJM-8s",
        "colab": {
          "base_uri": "https://localhost:8080/"
        },
        "outputId": "2ad72c16-dc0e-4716-9e4d-0f841fb36602"
      },
      "source": [
        "# For validation/testing the validation dataset is given which is not used for training\n",
        "\n",
        "\n",
        "x=[]\n",
        "\n",
        "path_testimage1=r'/content/Brain_Tumor_Dataset/Validation/BENIGN/384.jpg'             \n",
        "im_resized1=resize(imread(path_testimage1),(120,120,3))\n",
        "im_array1=np.array(im_resized1)\n",
        "im_flattened1 = im_array1.flatten()\n",
        "im_flattened1=np.array(im_flattened1)\n",
        "x.append(im_flattened1)\n",
        "\n",
        "path_testimage2=r'/content/Brain_Tumor_Dataset/Validation/MALIGNANT/394.jpg'   \n",
        "im_resized2=resize(imread(path_testimage2),(120,120,3))\n",
        "im_array2=np.array(im_resized2)\n",
        "im_flattened2 = im_array2.flatten()\n",
        "im_flattened2=np.array(im_flattened2)\n",
        "x.append(im_flattened2)\n",
        "\n",
        "path_testimage3=r'/content/Brain_Tumor_Dataset/Validation/NORMAL/403.jpg'\n",
        "im_resized3=resize(imread(path_testimage3),(120,120,3))\n",
        "im_array3=np.array(im_resized3)\n",
        "im_flattened3 = im_array3.flatten()\n",
        "im_flattened3=np.array(im_flattened3)\n",
        "x.append(im_flattened3)\n",
        "\n",
        "\n",
        "y_predicted=clf.predict(x)\n",
        "\n",
        "\n",
        "if y_predicted[0]==3:\n",
        "  print(\"the scan doesnt have any tumor \")\n",
        "elif y_predicted[0]==1:\n",
        "  print(\"the image has chance of having \"+catagories[0]+' tumor consult the Doctor')\n",
        "elif y_predicted[0]==2:\n",
        "  print(\"the image has chance of having \"+catagories[1]+' tumor consult the Doctor')\n",
        "\n",
        "if y_predicted[1]==3:\n",
        "  print(\"the scan doesnt have any tumor \")\n",
        "elif y_predicted[1]==1:\n",
        "  print(\"the image has chance of having \"+catagories[0]+' tumor consult the Doctor')\n",
        "elif y_predicted[1]==2:\n",
        "  print(\"the image has chance of having \"+catagories[1]+' tumor consult the Doctor')\n",
        "\n",
        "if y_predicted[2]==3:\n",
        "  print(\"the scan doesnt have any tumor \")\n",
        "elif y_predicted[2]==1:\n",
        "  print(\"the image has chance of having \"+catagories[0]+' tumor consult the Doctor')\n",
        "elif y_predicted[2]==2:\n",
        "  print(\"the image has chance of having \"+catagories[1]+' tumor consult the Doctor')"
      ],
      "execution_count": 9,
      "outputs": [
        {
          "output_type": "stream",
          "text": [
            "the image has chance of having BENIGN tumor consult the Doctor\n",
            "the image has chance of having MALIGNANT tumor consult the Doctor\n",
            "the scan doesnt have any tumor \n"
          ],
          "name": "stdout"
        }
      ]
    },
    {
      "cell_type": "code",
      "metadata": {
        "id": "WNRELst_3HJ_"
      },
      "source": [
        ""
      ],
      "execution_count": null,
      "outputs": []
    }
  ]
}